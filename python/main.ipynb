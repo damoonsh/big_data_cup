{
 "cells": [
  {
   "cell_type": "code",
   "execution_count": 12,
   "metadata": {},
   "outputs": [],
   "source": [
    "import numpy as np\n",
    "import pandas as pd\n",
    "import requests\n",
    "from io import StringIO\n",
    "\n",
    "def transform_url(url: str):\n",
    "    return StringIO(requests.get(url).content.decode('utf-8'))\n",
    "\n",
    "base_url = 'https://raw.githubusercontent.com/bigdatacup/Big-Data-Cup-2021/main/'\n",
    "url_hackathon_scouting = f'{base_url}hackathon_scouting.csv'\n",
    "url_hackathon_nwhl = f'{base_url}hackathon_nwhl.csv'\n",
    "url_hackathon_womens = f'{base_url}hackathon_womens.csv'\n",
    "    \n",
    "scouting = pd.read_csv(transform_url(url_hackathon_scouting))\n",
    "nwhl = pd.read_csv(transform_url(url_hackathon_nwhl))\n",
    "womens = pd.read_csv(transform_url(url_hackathon_womens))\n",
    "# https://raw.githubusercontent.com/bigdatacup/Big-Data-Cup-2021/main/hackathon_scouting.csv\n",
    "# https://raw.githubusercontent.com/bigdatacup/Big-Data-Cup-2021/main/hackathon_nwhl.csv\n",
    "# https://raw.githubusercontent.com/bigdatacup/Big-Data-Cup-2021/main/hackathon_womens.csv"
   ]
  },
  {
   "cell_type": "code",
   "execution_count": 35,
   "metadata": {},
   "outputs": [
    {
     "data": {
      "text/plain": [
       "array(['Erie Otters', 'Hamilton Bulldogs', 'Windsor Spitfires',\n",
       "       'Niagara Ice Dogs', 'Guelph Storm', 'Barrie Colts',\n",
       "       'Mississauga Steelheads', 'Oshawa Generals', 'Sudbury Wolves',\n",
       "       'Sault Ste. Marie Greyhounds', 'Kitchener Rangers',\n",
       "       'Kingston Frontenacs', \"Ottawa 67's\", 'Sarnia Sting',\n",
       "       'Flint Firebirds', 'Owen Sound Attack'], dtype=object)"
      ]
     },
     "execution_count": 35,
     "metadata": {},
     "output_type": "execute_result"
    }
   ],
   "source": [
    "scouting['Home Team'].unique()"
   ]
  },
  {
   "cell_type": "code",
   "execution_count": 36,
   "metadata": {},
   "outputs": [
    {
     "data": {
      "text/plain": [
       "array(['Sudbury Wolves', 'Erie Otters', 'Saginaw Spirit',\n",
       "       'Hamilton Bulldogs', 'Guelph Storm', 'Mississauga Steelheads',\n",
       "       'London Knights', 'Windsor Spitfires', 'Sarnia Sting',\n",
       "       'Kitchener Rangers', 'Niagara Ice Dogs', 'Flint Firebirds',\n",
       "       'Owen Sound Attack', 'Barrie Colts', 'North Bay Battalion'],\n",
       "      dtype=object)"
      ]
     },
     "execution_count": 36,
     "metadata": {},
     "output_type": "execute_result"
    }
   ],
   "source": [
    "scouting['Away Team'].unique()"
   ]
  },
  {
   "cell_type": "code",
   "execution_count": 26,
   "metadata": {},
   "outputs": [
    {
     "data": {
      "text/html": [
       "<div>\n",
       "<style scoped>\n",
       "    .dataframe tbody tr th:only-of-type {\n",
       "        vertical-align: middle;\n",
       "    }\n",
       "\n",
       "    .dataframe tbody tr th {\n",
       "        vertical-align: top;\n",
       "    }\n",
       "\n",
       "    .dataframe thead th {\n",
       "        text-align: right;\n",
       "    }\n",
       "</style>\n",
       "<table border=\"1\" class=\"dataframe\">\n",
       "  <thead>\n",
       "    <tr style=\"text-align: right;\">\n",
       "      <th></th>\n",
       "      <th>game_date</th>\n",
       "      <th>Home Team</th>\n",
       "      <th>Away Team</th>\n",
       "      <th>Period</th>\n",
       "      <th>Clock</th>\n",
       "    </tr>\n",
       "  </thead>\n",
       "  <tbody>\n",
       "    <tr>\n",
       "      <th>1000</th>\n",
       "      <td>2019-09-20</td>\n",
       "      <td>Erie Otters</td>\n",
       "      <td>Sudbury Wolves</td>\n",
       "      <td>2</td>\n",
       "      <td>9:05</td>\n",
       "    </tr>\n",
       "    <tr>\n",
       "      <th>1001</th>\n",
       "      <td>2019-09-20</td>\n",
       "      <td>Erie Otters</td>\n",
       "      <td>Sudbury Wolves</td>\n",
       "      <td>2</td>\n",
       "      <td>9:03</td>\n",
       "    </tr>\n",
       "    <tr>\n",
       "      <th>1002</th>\n",
       "      <td>2019-09-20</td>\n",
       "      <td>Erie Otters</td>\n",
       "      <td>Sudbury Wolves</td>\n",
       "      <td>2</td>\n",
       "      <td>9:01</td>\n",
       "    </tr>\n",
       "    <tr>\n",
       "      <th>1003</th>\n",
       "      <td>2019-09-20</td>\n",
       "      <td>Erie Otters</td>\n",
       "      <td>Sudbury Wolves</td>\n",
       "      <td>2</td>\n",
       "      <td>9:00</td>\n",
       "    </tr>\n",
       "    <tr>\n",
       "      <th>1004</th>\n",
       "      <td>2019-09-20</td>\n",
       "      <td>Erie Otters</td>\n",
       "      <td>Sudbury Wolves</td>\n",
       "      <td>2</td>\n",
       "      <td>9:00</td>\n",
       "    </tr>\n",
       "    <tr>\n",
       "      <th>...</th>\n",
       "      <td>...</td>\n",
       "      <td>...</td>\n",
       "      <td>...</td>\n",
       "      <td>...</td>\n",
       "      <td>...</td>\n",
       "    </tr>\n",
       "    <tr>\n",
       "      <th>1095</th>\n",
       "      <td>2019-09-20</td>\n",
       "      <td>Erie Otters</td>\n",
       "      <td>Sudbury Wolves</td>\n",
       "      <td>2</td>\n",
       "      <td>6:08</td>\n",
       "    </tr>\n",
       "    <tr>\n",
       "      <th>1096</th>\n",
       "      <td>2019-09-20</td>\n",
       "      <td>Erie Otters</td>\n",
       "      <td>Sudbury Wolves</td>\n",
       "      <td>2</td>\n",
       "      <td>6:05</td>\n",
       "    </tr>\n",
       "    <tr>\n",
       "      <th>1097</th>\n",
       "      <td>2019-09-20</td>\n",
       "      <td>Erie Otters</td>\n",
       "      <td>Sudbury Wolves</td>\n",
       "      <td>2</td>\n",
       "      <td>6:02</td>\n",
       "    </tr>\n",
       "    <tr>\n",
       "      <th>1098</th>\n",
       "      <td>2019-09-20</td>\n",
       "      <td>Erie Otters</td>\n",
       "      <td>Sudbury Wolves</td>\n",
       "      <td>2</td>\n",
       "      <td>5:58</td>\n",
       "    </tr>\n",
       "    <tr>\n",
       "      <th>1099</th>\n",
       "      <td>2019-09-20</td>\n",
       "      <td>Erie Otters</td>\n",
       "      <td>Sudbury Wolves</td>\n",
       "      <td>2</td>\n",
       "      <td>5:56</td>\n",
       "    </tr>\n",
       "  </tbody>\n",
       "</table>\n",
       "<p>100 rows × 5 columns</p>\n",
       "</div>"
      ],
      "text/plain": [
       "       game_date    Home Team       Away Team  Period Clock\n",
       "1000  2019-09-20  Erie Otters  Sudbury Wolves       2  9:05\n",
       "1001  2019-09-20  Erie Otters  Sudbury Wolves       2  9:03\n",
       "1002  2019-09-20  Erie Otters  Sudbury Wolves       2  9:01\n",
       "1003  2019-09-20  Erie Otters  Sudbury Wolves       2  9:00\n",
       "1004  2019-09-20  Erie Otters  Sudbury Wolves       2  9:00\n",
       "...          ...          ...             ...     ...   ...\n",
       "1095  2019-09-20  Erie Otters  Sudbury Wolves       2  6:08\n",
       "1096  2019-09-20  Erie Otters  Sudbury Wolves       2  6:05\n",
       "1097  2019-09-20  Erie Otters  Sudbury Wolves       2  6:02\n",
       "1098  2019-09-20  Erie Otters  Sudbury Wolves       2  5:58\n",
       "1099  2019-09-20  Erie Otters  Sudbury Wolves       2  5:56\n",
       "\n",
       "[100 rows x 5 columns]"
      ]
     },
     "execution_count": 26,
     "metadata": {},
     "output_type": "execute_result"
    }
   ],
   "source": [
    "scouting.iloc[1000:1100, :5]"
   ]
  },
  {
   "cell_type": "code",
   "execution_count": 37,
   "metadata": {},
   "outputs": [
    {
     "data": {
      "text/plain": [
       "array(['Minnesota Whitecaps', 'Buffalo Beauts', 'Metropolitan Riveters',\n",
       "       'Boston Pride', 'Connecticut Whale', 'Toronto Six'], dtype=object)"
      ]
     },
     "execution_count": 37,
     "metadata": {},
     "output_type": "execute_result"
    }
   ],
   "source": [
    "nwhl['Home Team'].unique()"
   ]
  },
  {
   "cell_type": "code",
   "execution_count": 38,
   "metadata": {},
   "outputs": [
    {
     "data": {
      "text/plain": [
       "array(['Boston Pride', 'Connecticut Whale', 'Toronto Six',\n",
       "       'Buffalo Beauts', 'Metropolitan Riveters', 'Minnesota Whitecaps'],\n",
       "      dtype=object)"
      ]
     },
     "execution_count": 38,
     "metadata": {},
     "output_type": "execute_result"
    }
   ],
   "source": [
    "nwhl['Away Team'].unique()"
   ]
  },
  {
   "cell_type": "code",
   "execution_count": null,
   "metadata": {},
   "outputs": [],
   "source": []
  }
 ],
 "metadata": {
  "kernelspec": {
   "display_name": "Python 3.8.2 64-bit",
   "language": "python",
   "name": "python38264bitbad483625d514999a3d9b979b09b821b"
  },
  "language_info": {
   "codemirror_mode": {
    "name": "ipython",
    "version": 3
   },
   "file_extension": ".py",
   "mimetype": "text/x-python",
   "name": "python",
   "nbconvert_exporter": "python",
   "pygments_lexer": "ipython3",
   "version": "3.8.6"
  }
 },
 "nbformat": 4,
 "nbformat_minor": 4
}
